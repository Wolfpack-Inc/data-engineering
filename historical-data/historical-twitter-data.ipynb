{
 "cells": [
  {
   "cell_type": "code",
   "execution_count": 99,
   "metadata": {},
   "outputs": [],
   "source": [
    "import os\n",
    "import tweepy as tw\n",
    "import pandas as pd\n",
    "from funcy import project"
   ]
  },
  {
   "cell_type": "code",
   "execution_count": 100,
   "metadata": {},
   "outputs": [],
   "source": [
    "consumer_key = 'I8Qvxs0xU5ifPHhfg98kxJVc4'\n",
    "consumer_secret = '43F9vXQIpDbJsB6TS8lVnKdBs7HjCpyLliM58oL8zCStAWD86J'\n",
    "access_token = '233923293-45rYG7fgTQb5HWJMY12YO32oXV6RlvQXFDsH5a0L'\n",
    "access_token_secret = 'LMesjv8I1Ke85yVpRxFDblkVAOct7grAjnpc8uU8L9kjh'"
   ]
  },
  {
   "cell_type": "code",
   "execution_count": 101,
   "metadata": {},
   "outputs": [],
   "source": [
    "auth = tw.OAuthHandler(consumer_key, consumer_secret)\n",
    "auth.set_access_token(access_token, access_token_secret)\n",
    "api = tw.API(auth, wait_on_rate_limit=True)"
   ]
  },
  {
   "cell_type": "code",
   "execution_count": 102,
   "metadata": {},
   "outputs": [],
   "source": [
    "search_words = 'bitcoin'\n",
    "date_since = '2019-10-28'"
   ]
  },
  {
   "cell_type": "code",
   "execution_count": 109,
   "metadata": {},
   "outputs": [
    {
     "data": {
      "text/plain": [
       "<tweepy.cursor.ItemIterator at 0x120a9d390>"
      ]
     },
     "execution_count": 109,
     "metadata": {},
     "output_type": "execute_result"
    }
   ],
   "source": [
    "tweets = tw.Cursor(api.search,\n",
    "                   q=search_words,\n",
    "                   lang='en',\n",
    "                   since=date_since).items()\n",
    "tweets"
   ]
  },
  {
   "cell_type": "code",
   "execution_count": 110,
   "metadata": {},
   "outputs": [],
   "source": [
    "keys = ['created_at', 'text']"
   ]
  },
  {
   "cell_type": "code",
   "execution_count": 111,
   "metadata": {},
   "outputs": [],
   "source": [
    "result = [project(tweet._json, keys) for tweet in tweets]"
   ]
  },
  {
   "cell_type": "code",
   "execution_count": 112,
   "metadata": {},
   "outputs": [
    {
     "data": {
      "text/plain": [
       "[{'created_at': 'Tue Oct 29 15:34:12 +0000 2019',\n",
       "  'text': 'RT @LifesToughMedi1: Finished another @Cryptonairesdoc interview with @bensemchee He’s now family! @BakkupBradley &amp; I are honored to includ…'},\n",
       " {'created_at': 'Tue Oct 29 15:34:12 +0000 2019',\n",
       "  'text': 'RT @chikanels: Facebook creates no content. \\nAmazon has almost no stores. \\nUber owns almost no cars. \\nAlibaba has no inventory.\\nBitcoin has…'}]"
      ]
     },
     "execution_count": 112,
     "metadata": {},
     "output_type": "execute_result"
    }
   ],
   "source": [
    "result[:2]"
   ]
  }
 ],
 "metadata": {
  "kernelspec": {
   "display_name": "Python 3",
   "language": "python",
   "name": "python3"
  }
 },
 "nbformat": 4,
 "nbformat_minor": 2
}
