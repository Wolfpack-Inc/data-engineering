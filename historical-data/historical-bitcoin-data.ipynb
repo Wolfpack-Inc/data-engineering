{
 "cells": [
  {
   "cell_type": "markdown",
   "metadata": {},
   "source": [
    "## Getting historical data from CryptoCompare API"
   ]
  },
  {
   "cell_type": "code",
   "execution_count": 2,
   "metadata": {},
   "outputs": [],
   "source": [
    "import requests\n",
    "from time import sleep\n",
    "from json import dumps, loads\n",
    "from datetime import datetime\n",
    "from funcy import project"
   ]
  },
  {
   "cell_type": "code",
   "execution_count": 131,
   "metadata": {},
   "outputs": [],
   "source": [
    "def transform_time(time):\n",
    "    '''\n",
    "    Transforms time from timestamp format into day-month-year hour-minute-seconds format\n",
    "    '''\n",
    "    fmt = \"%d-%m-%Y %H:%M:%S\"\n",
    "    \n",
    "    # local time\n",
    "    t = datetime.fromtimestamp(float(time))\n",
    "    \n",
    "    return t.strftime(fmt)"
   ]
  },
  {
   "cell_type": "code",
   "execution_count": 130,
   "metadata": {},
   "outputs": [],
   "source": [
    "def crypto_data():\n",
    "    '''\n",
    "    Returns list of dictionaries with price and timestamp of Bitcoin for the last 7 days\n",
    "    '''\n",
    "    coin = 'BTC'\n",
    "    url = \"https://min-api.cryptocompare.com/data/v2/histominute?fsym=BTC&tsym=EUR&limit=2000\"\n",
    "    \n",
    "    dataset = []\n",
    "    \n",
    "    for i in range(0,10):\n",
    "        # Calls API to retrieve 2,000 records of historical BTC data (per minute) \n",
    "        records = loads(requests.get(url).text)\n",
    "        \n",
    "        if records['Response'] == 'Success':\n",
    "            # Earliest timestamp in the 2,000 records retrieved\n",
    "            earliest_timestamp = records['Data']['TimeFrom']\n",
    "\n",
    "            # List of dictionaries with the crypto data\n",
    "            crypto_data = records['Data']['Data'][1:]\n",
    "\n",
    "            # Add newly retrieved crypto_data to existing dataset\n",
    "            dataset = crypto_data + dataset\n",
    "\n",
    "            url = \"https://min-api.cryptocompare.com/data/v2/histominute?fsym=BTC&tsym=EUR&limit=2000&toTs={}\".format(earliest_timestamp)\n",
    "    \n",
    "    # Removes all unnessary keys from dictionaries (only keeps time and open price)\n",
    "    dataset = [project(dictionary, ['time', 'open']) for dictionary in dataset]\n",
    "    \n",
    "    # Transforms time into timestamp\n",
    "    [dictionary.update({'time':transform_time(dictionary['time'])}) for dictionary in dataset]\n",
    "    \n",
    "    return dataset"
   ]
  },
  {
   "cell_type": "code",
   "execution_count": 129,
   "metadata": {},
   "outputs": [
    {
     "data": {
      "text/plain": [
       "[{'time': '22-10-2019 21:22:00', 'open': 7374.34},\n",
       " {'time': '22-10-2019 21:23:00', 'open': 7372.7},\n",
       " {'time': '22-10-2019 21:24:00', 'open': 7375.12},\n",
       " {'time': '22-10-2019 21:25:00', 'open': 7374.18},\n",
       " {'time': '22-10-2019 21:26:00', 'open': 7374.47}]"
      ]
     },
     "execution_count": 129,
     "metadata": {},
     "output_type": "execute_result"
    }
   ],
   "source": [
    "crypto_data[0:5]"
   ]
  }
 ],
 "metadata": {
  "kernelspec": {
   "display_name": "Python 3",
   "language": "python",
   "name": "python3"
  },
  "language_info": {
   "codemirror_mode": {
    "name": "ipython",
    "version": 3
   },
   "file_extension": ".py",
   "mimetype": "text/x-python",
   "name": "python",
   "nbconvert_exporter": "python",
   "pygments_lexer": "ipython3",
   "version": "3.7.3"
  }
 },
 "nbformat": 4,
 "nbformat_minor": 4
}
