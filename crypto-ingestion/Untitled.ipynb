{
 "cells": [
  {
   "cell_type": "markdown",
   "metadata": {},
   "source": [
    "## Getting historical data from CryptoCompare API"
   ]
  },
  {
   "cell_type": "code",
   "execution_count": 4,
   "metadata": {},
   "outputs": [],
   "source": [
    "import requests\n",
    "from time import sleep\n",
    "from json import dumps, loads\n",
    "from datetime import datetime"
   ]
  },
  {
   "cell_type": "code",
   "execution_count": 2,
   "metadata": {},
   "outputs": [],
   "source": [
    "api_key = 'b01ab56d38341be9485d53ebfe5c945d6c35f8d3f3759a4c6bcdfc67f2eee4db'\n",
    "coin = 'BTC'"
   ]
  },
  {
   "cell_type": "code",
   "execution_count": 3,
   "metadata": {},
   "outputs": [],
   "source": [
    "url = \"https://min-api.cryptocompare.com/data/v2/histominute?fsym=BTC&tsym=EUR&limit=10\""
   ]
  },
  {
   "cell_type": "code",
   "execution_count": 49,
   "metadata": {},
   "outputs": [],
   "source": [
    "test = loads(requests.get(url).text)"
   ]
  },
  {
   "cell_type": "code",
   "execution_count": 50,
   "metadata": {},
   "outputs": [
    {
     "data": {
      "text/plain": [
       "{'time': 1572362220,\n",
       " 'high': 8438.56,\n",
       " 'low': 8432.76,\n",
       " 'open': 8438.56,\n",
       " 'volumefrom': 6.063,\n",
       " 'volumeto': 51162.54,\n",
       " 'close': 8432.82,\n",
       " 'conversionType': 'direct',\n",
       " 'conversionSymbol': ''}"
      ]
     },
     "execution_count": 50,
     "metadata": {},
     "output_type": "execute_result"
    }
   ],
   "source": [
    "test['Data']['Data'][0]"
   ]
  },
  {
   "cell_type": "markdown",
   "metadata": {},
   "source": [
    "#### How to turn dictionary into smaller dictionary with keys you want to keep"
   ]
  },
  {
   "cell_type": "code",
   "execution_count": 41,
   "metadata": {},
   "outputs": [],
   "source": [
    "from funcy import project"
   ]
  },
  {
   "cell_type": "code",
   "execution_count": 43,
   "metadata": {},
   "outputs": [],
   "source": [
    "small_dict = project(test['Data']['Data'][0], ['time', 'open'])"
   ]
  },
  {
   "cell_type": "code",
   "execution_count": 44,
   "metadata": {},
   "outputs": [
    {
     "data": {
      "text/plain": [
       "{'time': 1572358560, 'open': 8411.6}"
      ]
     },
     "execution_count": 44,
     "metadata": {},
     "output_type": "execute_result"
    }
   ],
   "source": [
    "small_dict"
   ]
  },
  {
   "cell_type": "markdown",
   "metadata": {},
   "source": [
    "##### How to transform time in epoch to date time"
   ]
  },
  {
   "cell_type": "code",
   "execution_count": 55,
   "metadata": {},
   "outputs": [
    {
     "data": {
      "text/plain": [
       "1572362820"
      ]
     },
     "execution_count": 55,
     "metadata": {},
     "output_type": "execute_result"
    }
   ],
   "source": [
    "test['Data']['Data'][10]['time']"
   ]
  },
  {
   "cell_type": "code",
   "execution_count": 56,
   "metadata": {},
   "outputs": [
    {
     "name": "stdout",
     "output_type": "stream",
     "text": [
      "29-10-2019 16:27:00\n"
     ]
    }
   ],
   "source": [
    "import datetime\n",
    "\n",
    "s = test['Data']['Data'][10]['time']\n",
    "fmt = \"%d-%m-%Y %H:%M:%S\"\n",
    "\n",
    "# local time\n",
    "t = datetime.datetime.fromtimestamp(float(s))\n",
    "print(t.strftime(fmt)) # prints 2012-08-28 02:45:17"
   ]
  },
  {
   "cell_type": "code",
   "execution_count": null,
   "metadata": {},
   "outputs": [],
   "source": [
    "# format the url for the api to get a OK response\n",
    "url = 'https://min-api.cryptocompare.com/data/price?fsym={}&tsyms=USD'.format(coin)\n",
    "usd_value = loads(requests.get(url).text)['USD']\n",
    "time_now = datetime.now().strftime('%d-%m-%Y %H:%M:%S')\n",
    "# prepare the value and timestamp for sending to kafka\n",
    "data = {'timestamp': time_now, 'usd_value': usd_value}"
   ]
  }
 ],
 "metadata": {
  "kernelspec": {
   "display_name": "Python 3",
   "language": "python",
   "name": "python3"
  },
  "language_info": {
   "codemirror_mode": {
    "name": "ipython",
    "version": 3
   },
   "file_extension": ".py",
   "mimetype": "text/x-python",
   "name": "python",
   "nbconvert_exporter": "python",
   "pygments_lexer": "ipython3",
   "version": "3.7.3"
  }
 },
 "nbformat": 4,
 "nbformat_minor": 4
}
