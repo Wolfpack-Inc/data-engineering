{
 "cells": [
  {
   "cell_type": "markdown",
   "metadata": {},
   "source": [
    "### Testing application"
   ]
  },
  {
   "cell_type": "code",
   "execution_count": 10,
   "metadata": {},
   "outputs": [],
   "source": [
    "import os\n",
    "os.environ['PYSPARK_SUBMIT_ARGS'] = '--packages org.apache.spark:spark-sql-kafka-0-10_2.11:2.4.4 pyspark-shell'"
   ]
  },
  {
   "cell_type": "code",
   "execution_count": 11,
   "metadata": {},
   "outputs": [],
   "source": [
    "from pyspark.sql import SparkSession\n",
    "from pyspark.sql.functions import explode, window, max, min, avg\n",
    "from pyspark.sql.functions import split\n",
    "from pyspark.sql.types import StringType, FloatType, StructType, StructField\n",
    "from pyspark.sql.functions import from_json, col, to_timestamp"
   ]
  },
  {
   "cell_type": "code",
   "execution_count": 12,
   "metadata": {},
   "outputs": [],
   "source": [
    "# Create a spark session\n",
    "spark = SparkSession.builder.appName(\"Twitter\").getOrCreate()"
   ]
  },
  {
   "cell_type": "code",
   "execution_count": 13,
   "metadata": {},
   "outputs": [],
   "source": [
    "# Read kafka stream and subscribe to tweet topic\n",
    "df = spark.readStream \\\n",
    "          .format('kafka') \\\n",
    "          .option('kafka.bootstrap.servers', 'kafka-1:9092') \\\n",
    "          .option('startingOffsets', 'earliest') \\\n",
    "          .option('subscribe', 'twitter') \\\n",
    "          .load()"
   ]
  },
  {
   "cell_type": "code",
   "execution_count": 14,
   "metadata": {},
   "outputs": [
    {
     "name": "stdout",
     "output_type": "stream",
     "text": [
      "root\n",
      " |-- key: binary (nullable = true)\n",
      " |-- value: binary (nullable = true)\n",
      " |-- topic: string (nullable = true)\n",
      " |-- partition: integer (nullable = true)\n",
      " |-- offset: long (nullable = true)\n",
      " |-- timestamp: timestamp (nullable = true)\n",
      " |-- timestampType: integer (nullable = true)\n",
      "\n"
     ]
    }
   ],
   "source": [
    "df.printSchema()"
   ]
  },
  {
   "cell_type": "code",
   "execution_count": null,
   "metadata": {},
   "outputs": [],
   "source": [
    "raw_df = df \\\n",
    "         .writeStream \\\n",
    "         .queryName(\"rawdata\")\\\n",
    "         .format(\"memory\")\\\n",
    "         .start()"
   ]
  },
  {
   "cell_type": "code",
   "execution_count": 16,
   "metadata": {},
   "outputs": [
    {
     "name": "stdout",
     "output_type": "stream",
     "text": [
      "+----+--------------------+-------+---------+------+--------------------+-------------+\n",
      "| key|               value|  topic|partition|offset|           timestamp|timestampType|\n",
      "+----+--------------------+-------+---------+------+--------------------+-------------+\n",
      "|null|[7B 22 68 65 6C 6...|twitter|        0|     0|2019-10-21 21:13:...|            0|\n",
      "|null|[7B 22 68 65 6C 6...|twitter|        0|     1|2019-10-21 21:13:...|            0|\n",
      "|null|[7B 22 68 65 6C 6...|twitter|        0|     2|2019-10-21 21:13:...|            0|\n",
      "|null|[7B 22 68 65 6C 6...|twitter|        0|     3|2019-10-21 21:13:...|            0|\n",
      "|null|[7B 22 68 65 6C 6...|twitter|        0|     4|2019-10-21 21:13:...|            0|\n",
      "|null|[7B 22 68 65 6C 6...|twitter|        0|     5|2019-10-21 21:14:...|            0|\n",
      "|null|[7B 22 68 65 6C 6...|twitter|        0|     6|2019-10-21 21:14:...|            0|\n",
      "|null|[7B 22 68 65 6C 6...|twitter|        0|     7|2019-10-21 21:14:...|            0|\n",
      "|null|[7B 22 68 65 6C 6...|twitter|        0|     8|2019-10-21 21:14:...|            0|\n",
      "|null|[7B 22 68 65 6C 6...|twitter|        0|     9|2019-10-21 21:14:...|            0|\n",
      "|null|[7B 22 68 65 6C 6...|twitter|        0|    10|2019-10-21 21:14:...|            0|\n",
      "|null|[7B 22 68 65 6C 6...|twitter|        0|    11|2019-10-21 21:15:...|            0|\n",
      "|null|[7B 22 68 65 6C 6...|twitter|        0|    12|2019-10-21 21:15:...|            0|\n",
      "|null|[7B 22 68 65 6C 6...|twitter|        0|    13|2019-10-21 21:15:...|            0|\n",
      "|null|[7B 22 68 65 6C 6...|twitter|        0|    14|2019-10-21 21:15:...|            0|\n",
      "|null|[7B 22 68 65 6C 6...|twitter|        0|    15|2019-10-21 21:15:...|            0|\n",
      "|null|[7B 22 68 65 6C 6...|twitter|        0|    16|2019-10-21 21:15:...|            0|\n",
      "|null|[7B 22 68 65 6C 6...|twitter|        0|    17|2019-10-21 21:16:...|            0|\n",
      "|null|[7B 22 68 65 6C 6...|twitter|        0|    18|2019-10-21 21:16:...|            0|\n",
      "|null|[7B 22 68 65 6C 6...|twitter|        0|    19|2019-10-21 21:16:...|            0|\n",
      "+----+--------------------+-------+---------+------+--------------------+-------------+\n",
      "only showing top 20 rows\n",
      "\n"
     ]
    }
   ],
   "source": [
    "raw = spark.sql(\"select * from rawdata\")\n",
    "raw.show()"
   ]
  },
  {
   "cell_type": "code",
   "execution_count": null,
   "metadata": {},
   "outputs": [],
   "source": []
  }
 ],
 "metadata": {
  "kernelspec": {
   "display_name": "Python 3",
   "language": "python",
   "name": "python3"
  },
  "language_info": {
   "codemirror_mode": {
    "name": "ipython",
    "version": 3
   },
   "file_extension": ".py",
   "mimetype": "text/x-python",
   "name": "python",
   "nbconvert_exporter": "python",
   "pygments_lexer": "ipython3",
   "version": "3.7.3"
  }
 },
 "nbformat": 4,
 "nbformat_minor": 2
}
