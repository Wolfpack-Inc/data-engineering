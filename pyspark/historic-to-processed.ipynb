{
 "cells": [
  {
   "cell_type": "code",
   "execution_count": 1,
   "metadata": {},
   "outputs": [],
   "source": [
    "from pyspark import SparkConf, SparkContext\n",
    "from pyspark.sql import SparkSession\n",
    "from pyspark.sql.types import StringType, FloatType, StructType, StructField, IntegerType, TimestampType\n",
    "\n",
    "import pyspark.sql.functions as sf"
   ]
  },
  {
   "cell_type": "code",
   "execution_count": 2,
   "metadata": {},
   "outputs": [],
   "source": [
    "spark = (SparkSession\n",
    "         .builder\n",
    "         .appName('Historic')\n",
    "         .config('spark.jars.packages', 'org.mongodb.spark:mongo-spark-connector_2.11:2.4.1')\n",
    "         .getOrCreate())"
   ]
  },
  {
   "cell_type": "markdown",
   "metadata": {},
   "source": [
    "### Load the historic mongo data"
   ]
  },
  {
   "cell_type": "code",
   "execution_count": 12,
   "metadata": {},
   "outputs": [
    {
     "name": "stdout",
     "output_type": "stream",
     "text": [
      "+---------+--------------------+--------------------+\n",
      "|sentiment|                text|           timestamp|\n",
      "+---------+--------------------+--------------------+\n",
      "|   0.6486|RT @newsbtc: Bitc...|Sun Nov 03 14:42:...|\n",
      "|      0.0|RT @DACX_io: 💫 T...|Sun Nov 03 14:42:...|\n",
      "|    0.636|RT @staddann: Con...|Sun Nov 03 14:42:...|\n",
      "|      0.0|RT @helexcorp: No...|Sun Nov 03 14:42:...|\n",
      "|      0.0|Bitcoin Price Hol...|Sun Nov 03 14:43:...|\n",
      "|      0.0|French High Schoo...|Sun Nov 03 14:43:...|\n",
      "|    0.802|RT @CharlieShrem:...|Sun Nov 03 14:43:...|\n",
      "|   0.3818|RT @Italiaclick: ...|Sun Nov 03 14:43:...|\n",
      "|      0.0|@AltcoinSara Coul...|Sun Nov 03 14:43:...|\n",
      "|   0.3612|RT @BillyBitcoins...|Sun Nov 03 14:43:...|\n",
      "|      0.0|Close your eyes A...|Sun Nov 03 14:43:...|\n",
      "|      0.0|Unique, modern, w...|Sun Nov 03 14:43:...|\n",
      "|   0.1779|#Cred #Merchant S...|Sun Nov 03 14:43:...|\n",
      "|  -0.5423|Bitcoin Price Dip...|Sun Nov 03 14:43:...|\n",
      "|   0.4404|💰For Good Karma ...|Sun Nov 03 14:43:...|\n",
      "|      0.0|French High Schoo...|Sun Nov 03 14:43:...|\n",
      "|      0.0|RT @StarkPayments...|Sun Nov 03 14:43:...|\n",
      "|      0.0|RT @Bitcoin: 11 y...|Sun Nov 03 14:43:...|\n",
      "|      0.0|@masterbtcltc Bit...|Sun Nov 03 14:43:...|\n",
      "|      0.0|RT @CantHardyWait...|Sun Nov 03 14:43:...|\n",
      "+---------+--------------------+--------------------+\n",
      "only showing top 20 rows\n",
      "\n"
     ]
    }
   ],
   "source": [
    "twitter_raw = (spark\n",
    "         .read\n",
    "         .format(\"mongo\")\n",
    "         .option(\"spark.mongodb.input.uri\", \"mongodb://165.22.199.122/raw.twitter\")\n",
    "         .load()\n",
    "         .drop('_id'))\n",
    "\n",
    "twitter_raw.show()"
   ]
  },
  {
   "cell_type": "code",
   "execution_count": 15,
   "metadata": {},
   "outputs": [
    {
     "name": "stdout",
     "output_type": "stream",
     "text": [
      "+-------+-------------------+\n",
      "|  price|          timestamp|\n",
      "+-------+-------------------+\n",
      "|9186.49|03-11-2019 14:42:42|\n",
      "|9186.77|03-11-2019 14:43:19|\n",
      "|9180.19|03-11-2019 14:44:29|\n",
      "|9180.98|03-11-2019 14:45:29|\n",
      "|9182.04|03-11-2019 14:46:30|\n",
      "| 9180.8|03-11-2019 14:47:30|\n",
      "|9178.84|03-11-2019 14:48:30|\n",
      "|9172.01|03-11-2019 14:49:30|\n",
      "|9198.34|03-11-2019 14:50:30|\n",
      "|9197.43|03-11-2019 14:51:30|\n",
      "|9197.95|03-11-2019 14:52:30|\n",
      "|9198.19|03-11-2019 14:53:30|\n",
      "|9192.62|03-11-2019 14:54:30|\n",
      "|9193.57|03-11-2019 14:55:30|\n",
      "|9196.17|03-11-2019 14:56:30|\n",
      "|9195.88|03-11-2019 14:57:30|\n",
      "|9196.44|03-11-2019 14:58:31|\n",
      "|9188.15|03-11-2019 14:59:31|\n",
      "|9189.52|03-11-2019 15:00:31|\n",
      "|9186.95|03-11-2019 15:01:31|\n",
      "+-------+-------------------+\n",
      "only showing top 20 rows\n",
      "\n"
     ]
    }
   ],
   "source": [
    "crypto_raw = (spark\n",
    "         .read\n",
    "         .format(\"mongo\")\n",
    "         .option(\"spark.mongodb.input.uri\", \"mongodb://165.22.199.122/raw.crypto\")\n",
    "         .load()\n",
    "         .drop('_id'))\n",
    "\n",
    "crypto_raw.show()"
   ]
  },
  {
   "cell_type": "code",
   "execution_count": 17,
   "metadata": {},
   "outputs": [
    {
     "data": {
      "text/plain": [
       "(39909, 1176)"
      ]
     },
     "execution_count": 17,
     "metadata": {},
     "output_type": "execute_result"
    }
   ],
   "source": [
    "twitter_raw.count(), crypto_raw.count()"
   ]
  },
  {
   "cell_type": "markdown",
   "metadata": {},
   "source": [
    "### Parse the date time"
   ]
  },
  {
   "cell_type": "code",
   "execution_count": 18,
   "metadata": {},
   "outputs": [
    {
     "name": "stdout",
     "output_type": "stream",
     "text": [
      "+---------+--------------------+-------------------+\n",
      "|sentiment|                text|          timestamp|\n",
      "+---------+--------------------+-------------------+\n",
      "|   0.6486|RT @newsbtc: Bitc...|2019-11-03 14:42:43|\n",
      "|      0.0|RT @DACX_io: 💫 T...|2019-11-03 14:42:45|\n",
      "|    0.636|RT @staddann: Con...|2019-11-03 14:42:47|\n",
      "|      0.0|RT @helexcorp: No...|2019-11-03 14:42:50|\n",
      "|      0.0|Bitcoin Price Hol...|2019-11-03 14:43:18|\n",
      "+---------+--------------------+-------------------+\n",
      "only showing top 5 rows\n",
      "\n"
     ]
    }
   ],
   "source": [
    "twitter_date = twitter_raw.withColumn(\n",
    "    'timestamp',\n",
    "    sf.to_timestamp(twitter_raw['timestamp'], 'E MMM dd HH:mm:ss +0000 yyyy').alias('timestamp')\n",
    ")\n",
    "\n",
    "twitter_date.show(5)"
   ]
  },
  {
   "cell_type": "code",
   "execution_count": 21,
   "metadata": {},
   "outputs": [
    {
     "name": "stdout",
     "output_type": "stream",
     "text": [
      "+-------+-------------------+\n",
      "|  price|          timestamp|\n",
      "+-------+-------------------+\n",
      "|9186.49|2019-11-03 14:42:42|\n",
      "|9186.77|2019-11-03 14:43:19|\n",
      "|9180.19|2019-11-03 14:44:29|\n",
      "|9180.98|2019-11-03 14:45:29|\n",
      "|9182.04|2019-11-03 14:46:30|\n",
      "+-------+-------------------+\n",
      "only showing top 5 rows\n",
      "\n"
     ]
    }
   ],
   "source": [
    "crypto_date = crypto_raw.withColumn(\n",
    "    'timestamp',\n",
    "    sf.to_timestamp(crypto_raw['timestamp'], 'dd-MM-yyyy HH:mm:ss').alias('timestamp')\n",
    ")\n",
    "\n",
    "crypto_date.show(5)"
   ]
  },
  {
   "cell_type": "markdown",
   "metadata": {},
   "source": [
    "### Window the dataframes"
   ]
  },
  {
   "cell_type": "code",
   "execution_count": 33,
   "metadata": {},
   "outputs": [
    {
     "name": "stdout",
     "output_type": "stream",
     "text": [
      "+--------------------+-------------------+--------+\n",
      "|              window|          sentiment|n_tweets|\n",
      "+--------------------+-------------------+--------+\n",
      "|[2019-11-04 08:20...|0.15443051224944312|     449|\n",
      "|[2019-11-04 03:50...|0.12765446808510644|     235|\n",
      "|[2019-11-04 01:20...|0.12735247524752472|     303|\n",
      "|[2019-11-03 22:30...|0.17912349570200556|     349|\n",
      "|[2019-11-04 05:40...|0.20067056603773595|     265|\n",
      "|[2019-11-03 23:40...|0.16508763250883396|     283|\n",
      "|[2019-11-04 03:30...|0.06790671641791052|     268|\n",
      "|[2019-11-03 18:30...|0.13693138297872343|     376|\n",
      "|[2019-11-04 10:00...|0.13262109533468563|     493|\n",
      "|[2019-11-04 09:50...|0.14032447368421047|     380|\n",
      "|[2019-11-03 17:00...|0.10792800982800982|     407|\n",
      "|[2019-11-04 00:50...|0.20222807692307693|     260|\n",
      "|[2019-11-04 00:10...|  0.150216835016835|     297|\n",
      "|[2019-11-04 09:00...| 0.1484937185929647|     398|\n",
      "|[2019-11-03 20:30...|0.14280394366197185|     355|\n",
      "|[2019-11-04 02:10...|  0.109966255144033|     243|\n",
      "|[2019-11-04 02:30...|0.12121912751677845|     298|\n",
      "|[2019-11-04 05:30...|0.17043864541832676|     251|\n",
      "|[2019-11-03 19:50...|0.20491930835734853|     347|\n",
      "|[2019-11-04 10:20...| 0.1262160526315789|     380|\n",
      "+--------------------+-------------------+--------+\n",
      "only showing top 20 rows\n",
      "\n"
     ]
    }
   ],
   "source": [
    "twitter_agg = (twitter_date\n",
    "                     .groupBy(sf.window(twitter_date['timestamp'], '10 minutes'))\n",
    "                     .agg(\n",
    "                         sf.avg('sentiment').alias('sentiment'),\n",
    "                         sf.count('timestamp').alias('n_tweets')))\n",
    "\n",
    "twitter_agg.show()"
   ]
  },
  {
   "cell_type": "code",
   "execution_count": 25,
   "metadata": {},
   "outputs": [
    {
     "name": "stdout",
     "output_type": "stream",
     "text": [
      "+--------------------+-----------------+\n",
      "|              window|            price|\n",
      "+--------------------+-----------------+\n",
      "|[2019-11-04 08:20...|9213.009999999998|\n",
      "|[2019-11-04 03:50...|9180.990000000002|\n",
      "|[2019-11-04 01:20...|         9186.457|\n",
      "|[2019-11-03 22:30...|         9191.822|\n",
      "|[2019-11-04 05:40...|           9179.9|\n",
      "|[2019-11-03 23:40...|9229.041000000001|\n",
      "|[2019-11-04 03:30...|         9183.413|\n",
      "|[2019-11-03 18:30...|9171.991999999998|\n",
      "|[2019-11-04 10:00...|9218.559000000003|\n",
      "|[2019-11-04 09:50...|9192.842999999999|\n",
      "|[2019-11-03 17:00...|         9186.402|\n",
      "|[2019-11-04 00:50...|          9193.95|\n",
      "|[2019-11-04 00:10...|9212.649999999998|\n",
      "|[2019-11-04 09:00...|         9189.451|\n",
      "|[2019-11-03 20:30...|         9182.876|\n",
      "|[2019-11-04 02:10...|9196.066000000003|\n",
      "|[2019-11-04 02:30...|         9201.049|\n",
      "|[2019-11-04 05:30...|9186.655000000002|\n",
      "|[2019-11-03 19:50...|         9174.771|\n",
      "|[2019-11-04 10:20...|9237.185714285713|\n",
      "+--------------------+-----------------+\n",
      "only showing top 20 rows\n",
      "\n"
     ]
    }
   ],
   "source": [
    "crypto_agg = (crypto_date\n",
    "                     .groupBy(sf.window(crypto_date['timestamp'], '10 minutes'))\n",
    "                     .agg(sf.avg('price').alias('price')))\n",
    "\n",
    "crypto_agg.show()"
   ]
  },
  {
   "cell_type": "markdown",
   "metadata": {},
   "source": [
    "### Join the two aggregations"
   ]
  },
  {
   "cell_type": "code",
   "execution_count": 34,
   "metadata": {},
   "outputs": [
    {
     "name": "stdout",
     "output_type": "stream",
     "text": [
      "+------------------------------------------+-------------------+--------+-----------------+\n",
      "|window                                    |sentiment          |n_tweets|price            |\n",
      "+------------------------------------------+-------------------+--------+-----------------+\n",
      "|[2019-11-04 08:20:00, 2019-11-04 08:30:00]|0.15443051224944312|449     |9213.009999999998|\n",
      "|[2019-11-04 03:50:00, 2019-11-04 04:00:00]|0.12765446808510644|235     |9180.990000000002|\n",
      "|[2019-11-04 01:20:00, 2019-11-04 01:30:00]|0.12735247524752472|303     |9186.457         |\n",
      "|[2019-11-03 22:30:00, 2019-11-03 22:40:00]|0.17912349570200556|349     |9191.822         |\n",
      "|[2019-11-04 05:40:00, 2019-11-04 05:50:00]|0.20067056603773595|265     |9179.9           |\n",
      "|[2019-11-03 23:40:00, 2019-11-03 23:50:00]|0.16508763250883396|283     |9229.041000000001|\n",
      "|[2019-11-04 03:30:00, 2019-11-04 03:40:00]|0.06790671641791052|268     |9183.413         |\n",
      "|[2019-11-03 18:30:00, 2019-11-03 18:40:00]|0.13693138297872343|376     |9171.991999999998|\n",
      "|[2019-11-04 10:00:00, 2019-11-04 10:10:00]|0.13262109533468563|493     |9218.559000000003|\n",
      "|[2019-11-04 09:50:00, 2019-11-04 10:00:00]|0.14032447368421047|380     |9192.842999999999|\n",
      "|[2019-11-03 17:00:00, 2019-11-03 17:10:00]|0.10792800982800982|407     |9186.402         |\n",
      "|[2019-11-04 00:50:00, 2019-11-04 01:00:00]|0.20222807692307693|260     |9193.95          |\n",
      "|[2019-11-04 00:10:00, 2019-11-04 00:20:00]|0.150216835016835  |297     |9212.649999999998|\n",
      "|[2019-11-04 09:00:00, 2019-11-04 09:10:00]|0.1484937185929647 |398     |9189.451         |\n",
      "|[2019-11-03 20:30:00, 2019-11-03 20:40:00]|0.14280394366197185|355     |9182.876         |\n",
      "|[2019-11-04 02:10:00, 2019-11-04 02:20:00]|0.109966255144033  |243     |9196.066000000003|\n",
      "|[2019-11-04 02:30:00, 2019-11-04 02:40:00]|0.12121912751677845|298     |9201.049         |\n",
      "|[2019-11-04 05:30:00, 2019-11-04 05:40:00]|0.17043864541832676|251     |9186.655000000002|\n",
      "|[2019-11-03 19:50:00, 2019-11-03 20:00:00]|0.20491930835734853|347     |9174.771         |\n",
      "|[2019-11-04 10:20:00, 2019-11-04 10:30:00]|0.1262160526315789 |380     |9234.755         |\n",
      "+------------------------------------------+-------------------+--------+-----------------+\n",
      "only showing top 20 rows\n",
      "\n"
     ]
    }
   ],
   "source": [
    "df = twitter_agg.join(crypto_agg, 'window')\n",
    "\n",
    "df.show(truncate=False)"
   ]
  },
  {
   "cell_type": "markdown",
   "metadata": {},
   "source": [
    "### Store in mongo"
   ]
  },
  {
   "cell_type": "code",
   "execution_count": 35,
   "metadata": {},
   "outputs": [],
   "source": [
    "(df\n",
    " .write\n",
    " .format('mongo')\n",
    " .mode('append')\n",
    " .option(\"spark.mongodb.output.uri\", \"mongodb://165.22.199.122/processed.data\")\n",
    " .save())"
   ]
  }
 ],
 "metadata": {
  "kernelspec": {
   "display_name": "Python 3",
   "language": "python",
   "name": "python3"
  },
  "language_info": {
   "codemirror_mode": {
    "name": "ipython",
    "version": 3
   },
   "file_extension": ".py",
   "mimetype": "text/x-python",
   "name": "python",
   "nbconvert_exporter": "python",
   "pygments_lexer": "ipython3",
   "version": "3.7.3"
  }
 },
 "nbformat": 4,
 "nbformat_minor": 2
}
