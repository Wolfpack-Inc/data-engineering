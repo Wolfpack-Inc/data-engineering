{
 "cells": [
  {
   "cell_type": "code",
   "execution_count": 21,
   "metadata": {},
   "outputs": [
    {
     "name": "stdout",
     "output_type": "stream",
     "text": [
      "Collecting findspark\n",
      "  Downloading https://files.pythonhosted.org/packages/b1/c8/e6e1f6a303ae5122dc28d131b5a67c5eb87cbf8f7ac5b9f87764ea1b1e1e/findspark-1.3.0-py2.py3-none-any.whl\n",
      "Installing collected packages: findspark\n",
      "Successfully installed findspark-1.3.0\n"
     ]
    }
   ],
   "source": [
    "!pip install findspark"
   ]
  },
  {
   "cell_type": "code",
   "execution_count": 18,
   "metadata": {},
   "outputs": [],
   "source": [
    "from pyspark.context import SparkContext\n",
    "from pyspark.sql.session import SparkSession\n",
    "\n",
    "from pyspark.sql.functions import expr"
   ]
  },
  {
   "cell_type": "code",
   "execution_count": 12,
   "metadata": {
    "collapsed": true
   },
   "outputs": [
    {
     "name": "stdout",
     "output_type": "stream",
     "text": [
      "--2019-10-25 09:48:01--  https://raw.githubusercontent.com/ozlerhakan/mongodb-json-files/master/datasets/products.json\n",
      "Resolving raw.githubusercontent.com (raw.githubusercontent.com)... 151.101.36.133, 151.101.36.133\n",
      "Connecting to raw.githubusercontent.com (raw.githubusercontent.com)|151.101.36.133|:443... connected.\n",
      "HTTP request sent, awaiting response... 200 OK\n",
      "Length: 2767 (2.7K) [text/plain]\n",
      "Saving to: ‘products.json.1’\n",
      "\n",
      "products.json.1     100%[===================>]   2.70K  --.-KB/s    in 0s      \n",
      "\n",
      "2019-10-25 09:48:01 (14.7 MB/s) - ‘products.json.1’ saved [2767/2767]\n",
      "\n"
     ]
    }
   ],
   "source": [
    "# Get the json file\n",
    "!wget https://raw.githubusercontent.com/ozlerhakan/mongodb-json-files/master/datasets/products.json"
   ]
  },
  {
   "cell_type": "code",
   "execution_count": 25,
   "metadata": {},
   "outputs": [
    {
     "name": "stdout",
     "output_type": "stream",
     "text": [
      "root\n",
      " |-- _id: string (nullable = true)\n",
      " |-- additional_tarriffs: array (nullable = true)\n",
      " |    |-- element: struct (containsNull = true)\n",
      " |    |    |-- amount: string (nullable = true)\n",
      " |    |    |-- kind: string (nullable = true)\n",
      " |-- available: boolean (nullable = true)\n",
      " |-- brand: string (nullable = true)\n",
      " |-- cancel_penalty: long (nullable = true)\n",
      " |-- color: string (nullable = true)\n",
      " |-- for: string (nullable = true)\n",
      " |-- limits: struct (nullable = true)\n",
      " |    |-- data: struct (nullable = true)\n",
      " |    |    |-- n: string (nullable = true)\n",
      " |    |    |-- over_rate: long (nullable = true)\n",
      " |    |    |-- units: string (nullable = true)\n",
      " |    |-- sms: struct (nullable = true)\n",
      " |    |    |-- n: string (nullable = true)\n",
      " |    |    |-- over_rate: double (nullable = true)\n",
      " |    |    |-- units: string (nullable = true)\n",
      " |    |-- voice: struct (nullable = true)\n",
      " |    |    |-- n: long (nullable = true)\n",
      " |    |    |-- over_rate: double (nullable = true)\n",
      " |    |    |-- units: string (nullable = true)\n",
      " |-- monthly_price: long (nullable = true)\n",
      " |-- name: string (nullable = true)\n",
      " |-- price: double (nullable = true)\n",
      " |-- rating: double (nullable = true)\n",
      " |-- sales_tax: boolean (nullable = true)\n",
      " |-- term_years: long (nullable = true)\n",
      " |-- type: string (nullable = true)\n",
      " |-- warranty_years: double (nullable = true)\n",
      "\n"
     ]
    }
   ],
   "source": [
    "import findspark\n",
    "findspark.init()\n",
    "from pyspark.sql import SparkSession\n",
    "spark = SparkSession.builder.appName(\"Example\").master(\"local[4]\").getOrCreate()\n",
    "df = spark.read.format(\"json\").load(\"/home/jovyan/work/products.json\")\n",
    "df.printSchema()"
   ]
  },
  {
   "cell_type": "code",
   "execution_count": null,
   "metadata": {},
   "outputs": [],
   "source": []
  },
  {
   "cell_type": "code",
   "execution_count": null,
   "metadata": {},
   "outputs": [],
   "source": []
  }
 ],
 "metadata": {
  "kernelspec": {
   "display_name": "Python 3",
   "language": "python",
   "name": "python3"
  },
  "language_info": {
   "codemirror_mode": {
    "name": "ipython",
    "version": 3
   },
   "file_extension": ".py",
   "mimetype": "text/x-python",
   "name": "python",
   "nbconvert_exporter": "python",
   "pygments_lexer": "ipython3",
   "version": "3.7.3"
  }
 },
 "nbformat": 4,
 "nbformat_minor": 2
}
